{
 "cells": [
  {
   "cell_type": "markdown",
   "metadata": {},
   "source": [
    "# Python for Probability"
   ]
  },
  {
   "cell_type": "markdown",
   "metadata": {},
   "source": [
    "## Simulating discrete probability distributions"
   ]
  },
  {
   "cell_type": "markdown",
   "metadata": {},
   "source": [
    "### Binomial Distribution"
   ]
  },
  {
   "cell_type": "code",
   "execution_count": 1,
   "metadata": {},
   "outputs": [
    {
     "name": "stdout",
     "output_type": "stream",
     "text": [
      "Success : 56\n"
     ]
    }
   ],
   "source": [
    "import numpy\n",
    "from numpy.random import binomial\n",
    "\n",
    "#defining parameters of distribution\n",
    "p=0.5\n",
    "k=100\n",
    "\n",
    "#running a single simulation\n",
    "success = binomial(k,p)\n",
    "print(f'Success : {success}')"
   ]
  },
  {
   "cell_type": "code",
   "execution_count": 2,
   "metadata": {},
   "outputs": [
    {
     "name": "stdout",
     "output_type": "stream",
     "text": [
      "Mean=30.000, Variance=21.000\n"
     ]
    }
   ],
   "source": [
    "# Calculating the moments of this distribution using scipy\n",
    "\n",
    "from scipy.stats import binom\n",
    "\n",
    "p = 0.3\n",
    "k = 100\n",
    "\n",
    "mean,variance,_,_ = binom.stats(k,p, moments='mvsk')                     #mvsk= mean, variance, skewness, kurtosis\n",
    "print('Mean=%.3f, Variance=%.3f' %(mean,variance))"
   ]
  },
  {
   "cell_type": "code",
   "execution_count": 7,
   "metadata": {},
   "outputs": [
    {
     "name": "stdout",
     "output_type": "stream",
     "text": [
      "Probability of 10 successes: 0.000%\n",
      "Probability of 20 successes: 0.000%\n",
      "Probability of 30 successes: 0.002%\n",
      "Probability of 40 successes: 1.084%\n",
      "Probability of 50 successes: 7.959%\n",
      "Probability of 60 successes: 1.084%\n",
      "Probability of 70 successes: 0.002%\n",
      "Probability of 80 successes: 0.000%\n",
      "Probability of 90 successes: 0.000%\n",
      "Probability of 100 successes: 0.000%\n"
     ]
    }
   ],
   "source": [
    "# Calculating outcomes for different number of trials such as 10,20,30...100 let's say for a coin\n",
    "\n",
    "from scipy.stats import binom\n",
    "p=0.5                                      # probability of landing H/T = 0.5\n",
    "k=100\n",
    "\n",
    "binomial_distribution = binom(k,p)\n",
    "\n",
    "#calculating probability of n successes\n",
    "\n",
    "for n in range(10,110,10):\n",
    "    print(\"Probability of %d successes: %.3f%%\" %(n, binomial_distribution.pmf(n)*100))"
   ]
  },
  {
   "cell_type": "markdown",
   "metadata": {},
   "source": [
    "### As we know, that flipping a coin \"n\" number of times, has the equal chance of landing Heads for \"n/2\" trials and landing tails for \"n/2\" trials"
   ]
  },
  {
   "cell_type": "markdown",
   "metadata": {},
   "source": [
    "### Simulating Poisson Distribution "
   ]
  },
  {
   "cell_type": "code",
   "execution_count": 15,
   "metadata": {},
   "outputs": [
    {
     "name": "stdout",
     "output_type": "stream",
     "text": [
      "Probability of 10 successes: 0.000%\n",
      "Probability of 60 successes: 0.000%\n",
      "Probability of 110 successes: 0.529%\n",
      "Probability of 160 successes: 0.000%\n",
      "Probability of 210 successes: 0.000%\n",
      "Probability of 260 successes: 0.000%\n",
      "Probability of 310 successes: 0.000%\n",
      "Probability of 360 successes: 0.000%\n",
      "Probability of 410 successes: 0.000%\n",
      "Probability of 460 successes: 0.000%\n",
      "Probability of 510 successes: 0.000%\n",
      "Probability of 560 successes: 0.000%\n",
      "Probability of 610 successes: 0.000%\n",
      "Probability of 660 successes: 0.000%\n",
      "Probability of 710 successes: 0.000%\n",
      "Probability of 760 successes: 0.000%\n",
      "Probability of 810 successes: 0.000%\n",
      "Probability of 860 successes: 0.000%\n",
      "Probability of 910 successes: 0.000%\n",
      "Probability of 960 successes: 0.000%\n"
     ]
    }
   ],
   "source": [
    "from scipy.stats import poisson\n",
    "\n",
    "lam = 4\n",
    "k = 100\n",
    "\n",
    "poisson_distribution = poisson(lam,k)\n",
    "\n",
    "for n in range(10,1000,50):\n",
    "    print(\"Probability of %d successes: %.3f%%\" %(n, poisson_distribution.pmf(n)*100))"
   ]
  },
  {
   "cell_type": "code",
   "execution_count": 10,
   "metadata": {},
   "outputs": [
    {
     "data": {
      "text/plain": [
       "0.0"
      ]
     },
     "execution_count": 10,
     "metadata": {},
     "output_type": "execute_result"
    }
   ],
   "source": [
    "poisson_distribution.pmf(20)"
   ]
  },
  {
   "cell_type": "code",
   "execution_count": null,
   "metadata": {},
   "outputs": [],
   "source": []
  }
 ],
 "metadata": {
  "kernelspec": {
   "display_name": "Python 3",
   "language": "python",
   "name": "python3"
  },
  "language_info": {
   "codemirror_mode": {
    "name": "ipython",
    "version": 3
   },
   "file_extension": ".py",
   "mimetype": "text/x-python",
   "name": "python",
   "nbconvert_exporter": "python",
   "pygments_lexer": "ipython3",
   "version": "3.8.5"
  }
 },
 "nbformat": 4,
 "nbformat_minor": 4
}
